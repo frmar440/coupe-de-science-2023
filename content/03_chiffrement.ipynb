{
 "cells": [
  {
   "attachments": {},
   "cell_type": "markdown",
   "id": "ee62a8e0",
   "metadata": {},
   "source": [
    "# Chiffrement\n",
    "\n",
    "À l'époque de l'Antiquité, les Romains communiquaient à l'aide du chiffrement par décalage, également connu sous le nom de chiffrement de César. Cela leur permettait de communiquer secrètement lors des batailles. Ce chiffrement fonctionne par décalage des lettres de l'alphabet. Par exemple dans l'image ci-dessous, il y a une distance de 3 caractères, donc B devient E dans le texte codé. La **clé de chiffrement** correspond à cette distance de décalage (positive ou négative).\n",
    "![chiffrement](./figures/chiffrement.png)\n",
    "\n",
    "\n",
    "En fouillant dans vos papiers d'exploration, vous trouvez le message codé `\"JOLYJOLG SL YVJOLY LU MVYTL OPWWVJHTWL LA CVBZ AYVBCLYLG LUAYLL KL SH NYVAAL JHJOLL\"`. À côté de ce message, il est écrit: `clé` de chiffrement est la solution positive de:\n",
    "$$x^2 - 3x - 28 = 0.$$"
   ]
  },
  {
   "cell_type": "code",
   "execution_count": 10,
   "id": "f0366bdb",
   "metadata": {},
   "outputs": [],
   "source": [
    "alphabet = \"ABCDEFGHIJKLMNOPQRSTUVWXYZ\"\n",
    "\n",
    "def encode_chiffrement(clé, message):\n",
    "    message_encode = \"\"\n",
    "    for l in message:\n",
    "        if l in alphabet:\n",
    "            message_encode += alphabet[(alphabet.index(l)+clé)%26]\n",
    "        else:\n",
    "            message_encode += l\n",
    "    print(message_encode)\n",
    "\n",
    "def decode_chiffrement(clé, message_encode):\n",
    "    encode_chiffrement(-clé, message_encode)"
   ]
  },
  {
   "cell_type": "markdown",
   "id": "bd084664",
   "metadata": {},
   "source": [
    "Utilisez la cellule de code ci-dessous pour décoder le message en appelant la fonction `decode_chiffrement` et en lui donnant la bonne `clé` et le message codé en arguments."
   ]
  },
  {
   "cell_type": "code",
   "execution_count": null,
   "id": "9ec9ec6d",
   "metadata": {},
   "outputs": [],
   "source": []
  }
 ],
 "metadata": {
  "kernelspec": {
   "display_name": "Python 3",
   "language": "python",
   "name": "python3"
  },
  "language_info": {
   "codemirror_mode": {
    "name": "ipython",
    "version": 3
   },
   "file_extension": ".py",
   "mimetype": "text/x-python",
   "name": "python",
   "nbconvert_exporter": "python",
   "pygments_lexer": "ipython3",
   "version": "3.10.6"
  },
  "vscode": {
   "interpreter": {
    "hash": "916dbcbb3f70747c44a77c7bcd40155683ae19c65e1c03b4aa3499c5328201f1"
   }
  }
 },
 "nbformat": 4,
 "nbformat_minor": 5
}
