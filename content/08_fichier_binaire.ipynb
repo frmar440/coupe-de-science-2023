{
 "cells": [
  {
   "cell_type": "markdown",
   "id": "96e632a8",
   "metadata": {},
   "source": [
    "# Fichier binaire\n",
    "\n",
    "L'ordinateur que vous avez trouvé dans l'avion contient un fichier encodé en binaire. Les nombres binaires sont des représentations de 0 et de 1 appelés *bits*. Les ordinateurs modernes encodent l'information selon cette représentation binaire.\n",
    "\n",
    "Votre mission est de décoder ce fichier. Pour ce faire, vous devrez compléter la cellule de code ci-dessous. À la ligne 4, vous devez convertir le nombre binaire en utilisant la fonction `int`. Par exemple, `i = int('0b10100000', base=0)` associe la valeur `80` à la variable `i`. Dans votre cas, `'0b100'` doit être remplacé par la variable `b` de la boucle. À la ligne 5, vous devez convertir le nombre contenu dans la variable `i` en caractère en utilisant la fonction `chr`. Par exemple, `c = chr(i)` associe la valeur `'P'` à la variable `c`. Finalement, à la ligne 6, vous devrez afficher la variable `c` plutôt que la variable `b` obtenir le message décodé."
   ]
  },
  {
   "cell_type": "code",
   "execution_count": 3,
   "id": "846cf645",
   "metadata": {},
   "outputs": [
    {
     "name": "stdout",
     "output_type": "stream",
     "text": [
      "0b1010000\n",
      "0b1001111\n",
      "0b1001001\n",
      "0b1010011\n",
      "0b1010011\n",
      "0b1001111\n",
      "0b1001110\n",
      "0b1010011\n",
      "0b100000\n",
      "0b1000100\n",
      "0b1000001\n",
      "0b1001110\n",
      "0b1010011\n",
      "0b100000\n",
      "0b1000101\n",
      "0b1010100\n",
      "0b1000001\n",
      "0b1001110\n",
      "0b1000111\n",
      "0b100000\n",
      "0b1001110\n",
      "0b1001111\n",
      "0b1010010\n",
      "0b1000100\n"
     ]
    }
   ],
   "source": [
    "with open('binary', 'r') as fich:\n",
    "    for b in fich.read().split('\\n'):\n",
    "        # compléter les lignes 4 et 5\n",
    "\n",
    "\n",
    "        print(b)"
   ]
  }
 ],
 "metadata": {
  "kernelspec": {
   "display_name": "Python 3",
   "language": "python",
   "name": "python3"
  },
  "language_info": {
   "codemirror_mode": {
    "name": "ipython",
    "version": 3
   },
   "file_extension": ".py",
   "mimetype": "text/x-python",
   "name": "python",
   "nbconvert_exporter": "python",
   "pygments_lexer": "ipython3",
   "version": "3.10.6 (main, Nov 14 2022, 16:10:14) [GCC 11.3.0]"
  },
  "vscode": {
   "interpreter": {
    "hash": "916dbcbb3f70747c44a77c7bcd40155683ae19c65e1c03b4aa3499c5328201f1"
   }
  }
 },
 "nbformat": 4,
 "nbformat_minor": 5
}
