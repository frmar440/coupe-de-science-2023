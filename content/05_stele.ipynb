{
 "cells": [
  {
   "cell_type": "markdown",
   "id": "99819606",
   "metadata": {},
   "source": [
    "# Stèle\n",
    "\n",
    "Sous un amat de branches feuillues dans la jungle, vous trouvez un monument monolithe sur lequel il y a un tableau de lettres et de chiffres:"
   ]
  },
  {
   "cell_type": "code",
   "execution_count": 1,
   "id": "64423a3e",
   "metadata": {},
   "outputs": [
    {
     "data": {
      "text/html": [
       "<div>\n",
       "<style scoped>\n",
       "    .dataframe tbody tr th:only-of-type {\n",
       "        vertical-align: middle;\n",
       "    }\n",
       "\n",
       "    .dataframe tbody tr th {\n",
       "        vertical-align: top;\n",
       "    }\n",
       "\n",
       "    .dataframe thead th {\n",
       "        text-align: right;\n",
       "    }\n",
       "</style>\n",
       "<table border=\"1\" class=\"dataframe\">\n",
       "  <thead>\n",
       "    <tr style=\"text-align: right;\">\n",
       "      <th></th>\n",
       "      <th>0</th>\n",
       "      <th>1</th>\n",
       "      <th>2</th>\n",
       "      <th>3</th>\n",
       "      <th>4</th>\n",
       "      <th>5</th>\n",
       "      <th>6</th>\n",
       "      <th>7</th>\n",
       "      <th>8</th>\n",
       "      <th>9</th>\n",
       "    </tr>\n",
       "  </thead>\n",
       "  <tbody>\n",
       "    <tr>\n",
       "      <th>0</th>\n",
       "      <td>5</td>\n",
       "      <td>7</td>\n",
       "      <td>u</td>\n",
       "      <td>2</td>\n",
       "      <td>A</td>\n",
       "      <td>6</td>\n",
       "      <td>m</td>\n",
       "      <td>X</td>\n",
       "      <td>e</td>\n",
       "      <td>K</td>\n",
       "    </tr>\n",
       "    <tr>\n",
       "      <th>1</th>\n",
       "      <td>M</td>\n",
       "      <td>C</td>\n",
       "      <td>K</td>\n",
       "      <td>D</td>\n",
       "      <td>F</td>\n",
       "      <td>n</td>\n",
       "      <td>7</td>\n",
       "      <td>6</td>\n",
       "      <td>N</td>\n",
       "      <td>Z</td>\n",
       "    </tr>\n",
       "    <tr>\n",
       "      <th>2</th>\n",
       "      <td>3</td>\n",
       "      <td>a</td>\n",
       "      <td>Y</td>\n",
       "      <td>9</td>\n",
       "      <td>b</td>\n",
       "      <td>N</td>\n",
       "      <td>4</td>\n",
       "      <td>h</td>\n",
       "      <td>4</td>\n",
       "      <td>P</td>\n",
       "    </tr>\n",
       "    <tr>\n",
       "      <th>3</th>\n",
       "      <td>2</td>\n",
       "      <td>J</td>\n",
       "      <td>K</td>\n",
       "      <td>D</td>\n",
       "      <td>3</td>\n",
       "      <td>m</td>\n",
       "      <td>Q</td>\n",
       "      <td>8</td>\n",
       "      <td>7</td>\n",
       "      <td>2</td>\n",
       "    </tr>\n",
       "    <tr>\n",
       "      <th>4</th>\n",
       "      <td>u</td>\n",
       "      <td>5</td>\n",
       "      <td>p</td>\n",
       "      <td>7</td>\n",
       "      <td>V</td>\n",
       "      <td>G</td>\n",
       "      <td>G</td>\n",
       "      <td>p</td>\n",
       "      <td>Y</td>\n",
       "      <td>2</td>\n",
       "    </tr>\n",
       "    <tr>\n",
       "      <th>5</th>\n",
       "      <td>M</td>\n",
       "      <td>g</td>\n",
       "      <td>v</td>\n",
       "      <td>W</td>\n",
       "      <td>7</td>\n",
       "      <td>w</td>\n",
       "      <td>6</td>\n",
       "      <td>S</td>\n",
       "      <td>q</td>\n",
       "      <td>8</td>\n",
       "    </tr>\n",
       "  </tbody>\n",
       "</table>\n",
       "</div>"
      ],
      "text/plain": [
       "   0  1  2  3  4  5  6  7  8  9\n",
       "0  5  7  u  2  A  6  m  X  e  K\n",
       "1  M  C  K  D  F  n  7  6  N  Z\n",
       "2  3  a  Y  9  b  N  4  h  4  P\n",
       "3  2  J  K  D  3  m  Q  8  7  2\n",
       "4  u  5  p  7  V  G  G  p  Y  2\n",
       "5  M  g  v  W  7  w  6  S  q  8"
      ]
     },
     "metadata": {},
     "output_type": "display_data"
    },
    {
     "name": "stdout",
     "output_type": "stream",
     "text": [
      "code = tableau[2, 1:6]\n"
     ]
    }
   ],
   "source": [
    "from IPython.display import display\n",
    "from backend import df\n",
    "\n",
    "display(df)\n",
    "print(\"code = tableau[2, 1:6]\")"
   ]
  },
  {
   "cell_type": "markdown",
   "id": "a0e04fc2",
   "metadata": {},
   "source": [
    "Cette stèle semble cachée un secret, mais vu la nature aléatoire de ces caractères, vous ne savez pas comment parvenir à la déchiffrer. L'indice sous le tableau de caractères attire votre oeil... (**exécutez** la cellule ci-dessous, puis entrer votre solution dans la case prévue à cet effet):"
   ]
  },
  {
   "cell_type": "code",
   "execution_count": null,
   "id": "c590693c",
   "metadata": {},
   "outputs": [],
   "source": [
    "from backend import decode_stele\n",
    "\n",
    "decode_stele()"
   ]
  }
 ],
 "metadata": {
  "kernelspec": {
   "display_name": "Python 3 (ipykernel)",
   "language": "python",
   "name": "python3"
  },
  "language_info": {
   "codemirror_mode": {
    "name": "ipython",
    "version": 3
   },
   "file_extension": ".py",
   "mimetype": "text/x-python",
   "name": "python",
   "nbconvert_exporter": "python",
   "pygments_lexer": "ipython3",
   "version": "3.9.7"
  }
 },
 "nbformat": 4,
 "nbformat_minor": 5
}
