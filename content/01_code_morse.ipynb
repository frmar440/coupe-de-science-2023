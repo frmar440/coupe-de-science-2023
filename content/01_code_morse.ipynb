{
 "cells": [
  {
   "attachments": {},
   "cell_type": "markdown",
   "id": "b00568ca",
   "metadata": {},
   "source": [
    "# Code morse\n",
    "\n",
    "Votre récepteur radio du sous-marin capte une série d'impulsions courtes et longues. Vous comprenez immédiatement qu'il s'agit d'une communication en code morse! Le message est le suivant:"
   ]
  },
  {
   "cell_type": "code",
   "execution_count": 1,
   "id": "016ca207",
   "metadata": {},
   "outputs": [],
   "source": [
    "message_morse = ('-.-. --- -- -- . -. -.-. . --.. | ...- --- - .-. . | .-. . -.-. .... . .-. -.-. .... . | .-.. .- | --- ..- | ... --- ..- ..-. ..-. .-.. . -. - | .-.. . ... | .- .-.. .. --.. . ... --..-- | -.. .- -. ... | .-.. . ... | .--. .-. --- ..-. --- -. -.. . ..- .-. ... | -.. . | .-.. .- | -- . .-. | - ..- .-. --.- ..- --- .. ... .')\n"
   ]
  },
  {
   "attachments": {},
   "cell_type": "markdown",
   "id": "fa4bd7cc",
   "metadata": {},
   "source": [
    "Ce message chiffré pourrait contenir de l'information essentielle pour trouver le trésor. Votre mission est de décoder ce message. Heureusement, vous avez à votre disposition un programme informatique vous permettant de traduire le code morse. Le programme informatique est le suivant:"
   ]
  },
  {
   "cell_type": "code",
   "execution_count": 2,
   "id": "60eca249",
   "metadata": {},
   "outputs": [],
   "source": [
    "MORSE_CODE_DICT = {'.-': 'A', '-...': 'B', '-.-.': 'C',\n",
    "                   '-..': 'D', '.': 'E', '..-.': 'F',\n",
    "                   '--.': 'G', '....': 'H', '..': 'I',\n",
    "                   '.---': 'J', '-.-': 'K', '.-..': 'L',\n",
    "                   '--': 'M', '-.': 'N', '---': 'O',\n",
    "                   '.--.': 'P', '--.-': 'Q', '.-.': 'R',\n",
    "                   '...': 'S', '-': 'T', '..-': 'U',\n",
    "                   '...-': 'V', '.--': 'W', '-..-': 'X',\n",
    "                   '-.--': 'Y', '--..': 'Z', '.----': '1',\n",
    "                   '..---': '2', '...--': '3', '....-': '4',\n",
    "                   '.....': '5', '-....': '6', '--...': '7',\n",
    "                   '---..': '8', '----.': '9', '-----': '0',\n",
    "                   '--..--': ', ', '.-.-.-': '.', '..--..': '?',\n",
    "                   '-..-.': '/', '-....-': '-', '-.--.': '(', '-.--.-': ')'}\n",
    "\n",
    "def decode_morse(message_morse):\n",
    "    mots_texte = []\n",
    "    for mot_morse in message_morse.split(\" | \"):\n",
    "        mot_texte = \"\"\n",
    "        for lettre_morse in mot_morse.split(\" \"):\n",
    "            mot_texte += MORSE_CODE_DICT[lettre_morse]\n",
    "        mots_texte.append(mot_texte)\n",
    "    print(\" \".join(mots_texte))\n"
   ]
  },
  {
   "cell_type": "markdown",
   "id": "cce64ef2",
   "metadata": {},
   "source": [
    "Utilisez la cellule de code ci-dessous pour décoder le message en appelant la fonction `decode_morse` et en lui donnant la variable `message_morse` en argument."
   ]
  },
  {
   "cell_type": "code",
   "execution_count": null,
   "id": "f8443f75",
   "metadata": {},
   "outputs": [],
   "source": []
  }
 ],
 "metadata": {
  "kernelspec": {
   "display_name": "Python 3",
   "language": "python",
   "name": "python3"
  },
  "language_info": {
   "codemirror_mode": {
    "name": "ipython",
    "version": 3
   },
   "file_extension": ".py",
   "mimetype": "text/x-python",
   "name": "python",
   "nbconvert_exporter": "python",
   "pygments_lexer": "ipython3",
   "version": "3.10.6 (main, Nov 14 2022, 16:10:14) [GCC 11.3.0]"
  },
  "vscode": {
   "interpreter": {
    "hash": "916dbcbb3f70747c44a77c7bcd40155683ae19c65e1c03b4aa3499c5328201f1"
   }
  }
 },
 "nbformat": 4,
 "nbformat_minor": 5
}
