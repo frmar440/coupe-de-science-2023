{
 "cells": [
  {
   "cell_type": "markdown",
   "id": "77d5aba0",
   "metadata": {},
   "source": [
    "# Triangle de Pascal\n",
    "\n",
    "Dans la jungle, une roche en forme de pyramide attire votre attention. Sur l'une de ses faces, un triangle de chiffre est tracé: il s'agit du triangle de Pascal! Sous ce triangle, il est écrit: mon **code** est le coefficient du terme $a^7 b^3$ du binôme $(a + b)^{10}$.\n",
    "\n",
    "Le triangle de Pascal est une astuce mathématique pour obtenir rapidement les coefficients d'un binôme de degré $n$. La figure suivante illustre la relation entre le triangle de Pascal et les binômes:\n",
    "![triangle_pascal](./figures/triangle_pascal.png)\n",
    "\n",
    "La fonction `show_pascal_triangle` affiche le triangle de Pascal jusqu'au binôme de degré $n$. Par exemple, dans la cellule de code ci-dessous, le triangle est affiché jusqu'au binôme $(a + b)^{8}$."
   ]
  },
  {
   "cell_type": "code",
   "execution_count": 2,
   "id": "4e380d22",
   "metadata": {},
   "outputs": [],
   "source": [
    "from backend import pascal_triangle\n",
    "\n",
    "def show_pascal_triangle(n):\n",
    "    \"\"\"Afficher le triangle de Pascal\n",
    "    \n",
    "    Args:\n",
    "        n (int): degré maximal du binôme affiché.\n",
    "    \"\"\"\n",
    "    triangle = pascal_triangle(n)\n",
    "    for i, ligne in enumerate(pascal_triangle(n)):\n",
    "        triangle[i] = \"   \".join(map(str, ligne))\n",
    "    n_columns = len(triangle[-1])\n",
    "    for ligne in triangle:\n",
    "        print(f'{ligne:^{n_columns}}')"
   ]
  },
  {
   "cell_type": "code",
   "execution_count": 3,
   "id": "cc555d7c",
   "metadata": {},
   "outputs": [
    {
     "name": "stdout",
     "output_type": "stream",
     "text": [
      "                  1                   \n",
      "                1   1                 \n",
      "              1   2   1               \n",
      "            1   3   3   1             \n",
      "          1   4   6   4   1           \n",
      "       1   5   10   10   5   1        \n",
      "     1   6   15   20   15   6   1     \n",
      "  1   7   21   35   35   21   7   1   \n",
      "1   8   28   56   70   56   28   8   1\n"
     ]
    }
   ],
   "source": [
    "show_pascal_triangle(8)"
   ]
  },
  {
   "cell_type": "markdown",
   "id": "40370c34",
   "metadata": {},
   "source": [
    "Votre mission est de décoder l'énigme de la roche pyramidale en modifiant l'appel à la fonction `show_pascal_triangle` dans la cellule de code ci-haut. Rappel: mon **code** est le coefficient du terme $a^7 b^3$ du binôme $(a + b)^{10}$. (**exécutez** la cellule ci-dessous, puis entrer votre solution dans la case prévue à cet effet):"
   ]
  },
  {
   "cell_type": "code",
   "execution_count": 8,
   "id": "9721bb97",
   "metadata": {},
   "outputs": [
    {
     "name": "stdout",
     "output_type": "stream",
     "text": [
      "Entrez le code secret de la roche pyramidale: 120\n",
      "Code valide! La roche pyramidale se fragmente et vous trouvez l'indice suivant:\n",
      "BANANIERS SE CACHENT AU SUD DE L'ILE\n"
     ]
    }
   ],
   "source": [
    "from backend import decode_pascal\n",
    "\n",
    "decode_pascal()"
   ]
  }
 ],
 "metadata": {
  "kernelspec": {
   "display_name": "Python 3 (ipykernel)",
   "language": "python",
   "name": "python3"
  },
  "language_info": {
   "codemirror_mode": {
    "name": "ipython",
    "version": 3
   },
   "file_extension": ".py",
   "mimetype": "text/x-python",
   "name": "python",
   "nbconvert_exporter": "python",
   "pygments_lexer": "ipython3",
   "version": "3.9.7"
  }
 },
 "nbformat": 4,
 "nbformat_minor": 5
}
