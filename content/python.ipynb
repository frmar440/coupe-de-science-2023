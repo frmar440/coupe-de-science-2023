{
  "cells": [
    {
      "cell_type": "markdown",
      "metadata": {
        "tags": []
      },
      "source": [
        "# Pyolite - A Python kernel backed by Pyodide\n",
        "\n",
        "![](https://raw.githubusercontent.com/pyodide/pyodide/master/docs/_static/img/pyodide-logo.png)"
      ]
    },
    {
      "cell_type": "code",
      "execution_count": null,
      "metadata": {
        "trusted": true
      },
      "outputs": [],
      "source": [
        "import pyolite\n",
        "pyolite.__version__"
      ]
    },
    {
      "cell_type": "markdown",
      "metadata": {},
      "source": [
        "# Simple code execution"
      ]
    },
    {
      "cell_type": "code",
      "execution_count": null,
      "metadata": {
        "trusted": true
      },
      "outputs": [],
      "source": [
        "a = 3"
      ]
    },
    {
      "cell_type": "code",
      "execution_count": null,
      "metadata": {
        "trusted": true
      },
      "outputs": [],
      "source": [
        "a"
      ]
    },
    {
      "cell_type": "code",
      "execution_count": null,
      "metadata": {
        "trusted": true
      },
      "outputs": [],
      "source": [
        "b = 89\n",
        "\n",
        "def sq(x):\n",
        "    return x * x\n",
        "\n",
        "sq(b)"
      ]
    },
    {
      "cell_type": "code",
      "execution_count": null,
      "metadata": {
        "trusted": true
      },
      "outputs": [],
      "source": [
        "print"
      ]
    },
    {
      "cell_type": "markdown",
      "metadata": {
        "tags": []
      },
      "source": [
        "# Redirected streams"
      ]
    },
    {
      "cell_type": "code",
      "execution_count": null,
      "metadata": {
        "trusted": true
      },
      "outputs": [],
      "source": [
        "import sys\n",
        "\n",
        "print(\"Error !!\", file=sys.stderr)"
      ]
    },
    {
      "cell_type": "markdown",
      "metadata": {},
      "source": [
        "# Error handling"
      ]
    },
    {
      "cell_type": "code",
      "execution_count": null,
      "metadata": {
        "scrolled": true,
        "trusted": true
      },
      "outputs": [],
      "source": [
        "\"Hello\"\n",
        "\n",
        "def dummy_function():\n",
        "    import missing_module"
      ]
    },
    {
      "cell_type": "code",
      "execution_count": null,
      "metadata": {
        "trusted": true
      },
      "outputs": [],
      "source": [
        "dummy_function()"
      ]
    },
    {
      "cell_type": "markdown",
      "metadata": {},
      "source": [
        "# Code completion"
      ]
    },
    {
      "cell_type": "markdown",
      "metadata": {},
      "source": [
        "### press `tab` to see what is available in `sys` module"
      ]
    },
    {
      "cell_type": "code",
      "execution_count": null,
      "metadata": {
        "trusted": true
      },
      "outputs": [],
      "source": [
        "from sys import "
      ]
    },
    {
      "cell_type": "markdown",
      "metadata": {},
      "source": [
        "# Code inspection"
      ]
    },
    {
      "cell_type": "markdown",
      "metadata": {},
      "source": [
        "### using the question mark"
      ]
    },
    {
      "cell_type": "code",
      "execution_count": null,
      "metadata": {
        "trusted": true
      },
      "outputs": [],
      "source": [
        "?print"
      ]
    },
    {
      "cell_type": "markdown",
      "metadata": {},
      "source": [
        "### by pressing `shift+tab`"
      ]
    },
    {
      "cell_type": "code",
      "execution_count": null,
      "metadata": {
        "trusted": true
      },
      "outputs": [],
      "source": [
        "print("
      ]
    },
    {
      "cell_type": "markdown",
      "metadata": {},
      "source": [
        "# Input support"
      ]
    },
    {
      "cell_type": "code",
      "execution_count": null,
      "metadata": {
        "trusted": true
      },
      "outputs": [],
      "source": [
        "name = await input('Enter your name: ')"
      ]
    },
    {
      "cell_type": "code",
      "execution_count": null,
      "metadata": {
        "trusted": true
      },
      "outputs": [],
      "source": [
        "'Hello, ' + name"
      ]
    },
    {
      "cell_type": "markdown",
      "metadata": {},
      "source": [
        "# Rich representation"
      ]
    },
    {
      "cell_type": "code",
      "execution_count": null,
      "metadata": {
        "trusted": true
      },
      "outputs": [],
      "source": [
        "from IPython.display import display, Markdown, HTML, JSON, Latex"
      ]
    },
    {
      "cell_type": "markdown",
      "metadata": {
        "tags": []
      },
      "source": [
        "## HTML"
      ]
    },
    {
      "cell_type": "code",
      "execution_count": null,
      "metadata": {
        "trusted": true
      },
      "outputs": [],
      "source": [
        "print('Before display')\n",
        "\n",
        "s = '<h1>HTML Title</h1>'\n",
        "display(HTML(s))\n",
        "\n",
        "print('After display')"
      ]
    },
    {
      "cell_type": "markdown",
      "metadata": {},
      "source": [
        "## Markdown"
      ]
    },
    {
      "cell_type": "code",
      "execution_count": null,
      "metadata": {
        "trusted": true
      },
      "outputs": [],
      "source": [
        "Markdown('''\n",
        "# Title\n",
        "\n",
        "**in bold**\n",
        "\n",
        "~~Strikthrough~~\n",
        "''')"
      ]
    },
    {
      "cell_type": "markdown",
      "metadata": {},
      "source": [
        "## Pandas DataFrame"
      ]
    },
    {
      "cell_type": "code",
      "execution_count": 1,
      "metadata": {
        "trusted": true
      },
      "outputs": [
        {
          "data": {
            "text/html": [
              "<div>\n",
              "<style scoped>\n",
              "    .dataframe tbody tr th:only-of-type {\n",
              "        vertical-align: middle;\n",
              "    }\n",
              "\n",
              "    .dataframe tbody tr th {\n",
              "        vertical-align: top;\n",
              "    }\n",
              "\n",
              "    .dataframe thead th {\n",
              "        text-align: right;\n",
              "    }\n",
              "</style>\n",
              "<table border=\"1\" class=\"dataframe\">\n",
              "  <thead>\n",
              "    <tr style=\"text-align: right;\">\n",
              "      <th></th>\n",
              "      <th>A</th>\n",
              "      <th>B</th>\n",
              "      <th>C</th>\n",
              "      <th>D</th>\n",
              "      <th>E</th>\n",
              "      <th>F</th>\n",
              "      <th>G</th>\n",
              "      <th>H</th>\n",
              "      <th>I</th>\n",
              "      <th>J</th>\n",
              "      <th>...</th>\n",
              "      <th>Q</th>\n",
              "      <th>R</th>\n",
              "      <th>S</th>\n",
              "      <th>T</th>\n",
              "      <th>U</th>\n",
              "      <th>V</th>\n",
              "      <th>W</th>\n",
              "      <th>X</th>\n",
              "      <th>Y</th>\n",
              "      <th>Z</th>\n",
              "    </tr>\n",
              "  </thead>\n",
              "  <tbody>\n",
              "    <tr>\n",
              "      <th>0</th>\n",
              "      <td>39</td>\n",
              "      <td>84</td>\n",
              "      <td>51</td>\n",
              "      <td>85</td>\n",
              "      <td>57</td>\n",
              "      <td>47</td>\n",
              "      <td>30</td>\n",
              "      <td>75</td>\n",
              "      <td>86</td>\n",
              "      <td>6</td>\n",
              "      <td>...</td>\n",
              "      <td>89</td>\n",
              "      <td>88</td>\n",
              "      <td>0</td>\n",
              "      <td>54</td>\n",
              "      <td>56</td>\n",
              "      <td>95</td>\n",
              "      <td>44</td>\n",
              "      <td>65</td>\n",
              "      <td>77</td>\n",
              "      <td>63</td>\n",
              "    </tr>\n",
              "    <tr>\n",
              "      <th>1</th>\n",
              "      <td>43</td>\n",
              "      <td>87</td>\n",
              "      <td>20</td>\n",
              "      <td>9</td>\n",
              "      <td>26</td>\n",
              "      <td>87</td>\n",
              "      <td>83</td>\n",
              "      <td>35</td>\n",
              "      <td>67</td>\n",
              "      <td>58</td>\n",
              "      <td>...</td>\n",
              "      <td>94</td>\n",
              "      <td>56</td>\n",
              "      <td>46</td>\n",
              "      <td>54</td>\n",
              "      <td>76</td>\n",
              "      <td>79</td>\n",
              "      <td>76</td>\n",
              "      <td>22</td>\n",
              "      <td>94</td>\n",
              "      <td>72</td>\n",
              "    </tr>\n",
              "    <tr>\n",
              "      <th>2</th>\n",
              "      <td>72</td>\n",
              "      <td>70</td>\n",
              "      <td>13</td>\n",
              "      <td>4</td>\n",
              "      <td>43</td>\n",
              "      <td>75</td>\n",
              "      <td>45</td>\n",
              "      <td>94</td>\n",
              "      <td>21</td>\n",
              "      <td>9</td>\n",
              "      <td>...</td>\n",
              "      <td>15</td>\n",
              "      <td>38</td>\n",
              "      <td>24</td>\n",
              "      <td>17</td>\n",
              "      <td>48</td>\n",
              "      <td>84</td>\n",
              "      <td>71</td>\n",
              "      <td>51</td>\n",
              "      <td>68</td>\n",
              "      <td>11</td>\n",
              "    </tr>\n",
              "    <tr>\n",
              "      <th>3</th>\n",
              "      <td>16</td>\n",
              "      <td>56</td>\n",
              "      <td>34</td>\n",
              "      <td>36</td>\n",
              "      <td>18</td>\n",
              "      <td>21</td>\n",
              "      <td>71</td>\n",
              "      <td>58</td>\n",
              "      <td>5</td>\n",
              "      <td>5</td>\n",
              "      <td>...</td>\n",
              "      <td>89</td>\n",
              "      <td>26</td>\n",
              "      <td>61</td>\n",
              "      <td>88</td>\n",
              "      <td>12</td>\n",
              "      <td>55</td>\n",
              "      <td>99</td>\n",
              "      <td>25</td>\n",
              "      <td>79</td>\n",
              "      <td>58</td>\n",
              "    </tr>\n",
              "    <tr>\n",
              "      <th>4</th>\n",
              "      <td>63</td>\n",
              "      <td>83</td>\n",
              "      <td>61</td>\n",
              "      <td>11</td>\n",
              "      <td>49</td>\n",
              "      <td>89</td>\n",
              "      <td>33</td>\n",
              "      <td>7</td>\n",
              "      <td>95</td>\n",
              "      <td>48</td>\n",
              "      <td>...</td>\n",
              "      <td>8</td>\n",
              "      <td>37</td>\n",
              "      <td>33</td>\n",
              "      <td>54</td>\n",
              "      <td>59</td>\n",
              "      <td>9</td>\n",
              "      <td>48</td>\n",
              "      <td>19</td>\n",
              "      <td>94</td>\n",
              "      <td>35</td>\n",
              "    </tr>\n",
              "    <tr>\n",
              "      <th>...</th>\n",
              "      <td>...</td>\n",
              "      <td>...</td>\n",
              "      <td>...</td>\n",
              "      <td>...</td>\n",
              "      <td>...</td>\n",
              "      <td>...</td>\n",
              "      <td>...</td>\n",
              "      <td>...</td>\n",
              "      <td>...</td>\n",
              "      <td>...</td>\n",
              "      <td>...</td>\n",
              "      <td>...</td>\n",
              "      <td>...</td>\n",
              "      <td>...</td>\n",
              "      <td>...</td>\n",
              "      <td>...</td>\n",
              "      <td>...</td>\n",
              "      <td>...</td>\n",
              "      <td>...</td>\n",
              "      <td>...</td>\n",
              "      <td>...</td>\n",
              "    </tr>\n",
              "    <tr>\n",
              "      <th>95</th>\n",
              "      <td>47</td>\n",
              "      <td>57</td>\n",
              "      <td>43</td>\n",
              "      <td>12</td>\n",
              "      <td>6</td>\n",
              "      <td>18</td>\n",
              "      <td>3</td>\n",
              "      <td>1</td>\n",
              "      <td>55</td>\n",
              "      <td>87</td>\n",
              "      <td>...</td>\n",
              "      <td>77</td>\n",
              "      <td>91</td>\n",
              "      <td>54</td>\n",
              "      <td>55</td>\n",
              "      <td>93</td>\n",
              "      <td>67</td>\n",
              "      <td>65</td>\n",
              "      <td>40</td>\n",
              "      <td>28</td>\n",
              "      <td>93</td>\n",
              "    </tr>\n",
              "    <tr>\n",
              "      <th>96</th>\n",
              "      <td>85</td>\n",
              "      <td>47</td>\n",
              "      <td>32</td>\n",
              "      <td>87</td>\n",
              "      <td>24</td>\n",
              "      <td>85</td>\n",
              "      <td>2</td>\n",
              "      <td>23</td>\n",
              "      <td>17</td>\n",
              "      <td>41</td>\n",
              "      <td>...</td>\n",
              "      <td>29</td>\n",
              "      <td>69</td>\n",
              "      <td>75</td>\n",
              "      <td>63</td>\n",
              "      <td>81</td>\n",
              "      <td>25</td>\n",
              "      <td>89</td>\n",
              "      <td>0</td>\n",
              "      <td>86</td>\n",
              "      <td>73</td>\n",
              "    </tr>\n",
              "    <tr>\n",
              "      <th>97</th>\n",
              "      <td>15</td>\n",
              "      <td>34</td>\n",
              "      <td>98</td>\n",
              "      <td>42</td>\n",
              "      <td>27</td>\n",
              "      <td>98</td>\n",
              "      <td>94</td>\n",
              "      <td>77</td>\n",
              "      <td>75</td>\n",
              "      <td>89</td>\n",
              "      <td>...</td>\n",
              "      <td>87</td>\n",
              "      <td>32</td>\n",
              "      <td>55</td>\n",
              "      <td>70</td>\n",
              "      <td>78</td>\n",
              "      <td>89</td>\n",
              "      <td>81</td>\n",
              "      <td>50</td>\n",
              "      <td>27</td>\n",
              "      <td>1</td>\n",
              "    </tr>\n",
              "    <tr>\n",
              "      <th>98</th>\n",
              "      <td>7</td>\n",
              "      <td>54</td>\n",
              "      <td>64</td>\n",
              "      <td>61</td>\n",
              "      <td>51</td>\n",
              "      <td>88</td>\n",
              "      <td>4</td>\n",
              "      <td>5</td>\n",
              "      <td>66</td>\n",
              "      <td>53</td>\n",
              "      <td>...</td>\n",
              "      <td>45</td>\n",
              "      <td>0</td>\n",
              "      <td>66</td>\n",
              "      <td>19</td>\n",
              "      <td>25</td>\n",
              "      <td>93</td>\n",
              "      <td>56</td>\n",
              "      <td>96</td>\n",
              "      <td>72</td>\n",
              "      <td>93</td>\n",
              "    </tr>\n",
              "    <tr>\n",
              "      <th>99</th>\n",
              "      <td>10</td>\n",
              "      <td>89</td>\n",
              "      <td>96</td>\n",
              "      <td>44</td>\n",
              "      <td>52</td>\n",
              "      <td>26</td>\n",
              "      <td>2</td>\n",
              "      <td>34</td>\n",
              "      <td>62</td>\n",
              "      <td>74</td>\n",
              "      <td>...</td>\n",
              "      <td>75</td>\n",
              "      <td>14</td>\n",
              "      <td>26</td>\n",
              "      <td>78</td>\n",
              "      <td>60</td>\n",
              "      <td>96</td>\n",
              "      <td>56</td>\n",
              "      <td>13</td>\n",
              "      <td>32</td>\n",
              "      <td>32</td>\n",
              "    </tr>\n",
              "  </tbody>\n",
              "</table>\n",
              "<p>100 rows × 26 columns</p>\n",
              "</div>"
            ],
            "text/plain": [
              "     A   B   C   D   E   F   G   H   I   J  ...   Q   R   S   T   U   V   W  \\\n",
              "0   39  84  51  85  57  47  30  75  86   6  ...  89  88   0  54  56  95  44   \n",
              "1   43  87  20   9  26  87  83  35  67  58  ...  94  56  46  54  76  79  76   \n",
              "2   72  70  13   4  43  75  45  94  21   9  ...  15  38  24  17  48  84  71   \n",
              "3   16  56  34  36  18  21  71  58   5   5  ...  89  26  61  88  12  55  99   \n",
              "4   63  83  61  11  49  89  33   7  95  48  ...   8  37  33  54  59   9  48   \n",
              "..  ..  ..  ..  ..  ..  ..  ..  ..  ..  ..  ...  ..  ..  ..  ..  ..  ..  ..   \n",
              "95  47  57  43  12   6  18   3   1  55  87  ...  77  91  54  55  93  67  65   \n",
              "96  85  47  32  87  24  85   2  23  17  41  ...  29  69  75  63  81  25  89   \n",
              "97  15  34  98  42  27  98  94  77  75  89  ...  87  32  55  70  78  89  81   \n",
              "98   7  54  64  61  51  88   4   5  66  53  ...  45   0  66  19  25  93  56   \n",
              "99  10  89  96  44  52  26   2  34  62  74  ...  75  14  26  78  60  96  56   \n",
              "\n",
              "     X   Y   Z  \n",
              "0   65  77  63  \n",
              "1   22  94  72  \n",
              "2   51  68  11  \n",
              "3   25  79  58  \n",
              "4   19  94  35  \n",
              "..  ..  ..  ..  \n",
              "95  40  28  93  \n",
              "96   0  86  73  \n",
              "97  50  27   1  \n",
              "98  96  72  93  \n",
              "99  13  32  32  \n",
              "\n",
              "[100 rows x 26 columns]"
            ]
          },
          "execution_count": 1,
          "metadata": {},
          "output_type": "execute_result"
        }
      ],
      "source": [
        "import pandas as pd\n",
        "import numpy as np\n",
        "from string import ascii_uppercase as letters\n",
        "from IPython.display import display\n",
        "\n",
        "df = pd.DataFrame(np.random.randint(0, 100, size=(100, len(letters))), columns=list(letters))\n",
        "df"
      ]
    },
    {
      "cell_type": "markdown",
      "metadata": {},
      "source": [
        "### Show the same DataFrame "
      ]
    },
    {
      "cell_type": "code",
      "execution_count": null,
      "metadata": {
        "trusted": true
      },
      "outputs": [],
      "source": [
        "df"
      ]
    },
    {
      "cell_type": "markdown",
      "metadata": {},
      "source": [
        "## IPython.display module"
      ]
    },
    {
      "cell_type": "code",
      "execution_count": null,
      "metadata": {
        "trusted": true
      },
      "outputs": [],
      "source": [
        "from IPython.display import clear_output, display, update_display\n",
        "from asyncio import sleep"
      ]
    },
    {
      "cell_type": "markdown",
      "metadata": {},
      "source": [
        "### Update display"
      ]
    },
    {
      "cell_type": "code",
      "execution_count": null,
      "metadata": {
        "trusted": true
      },
      "outputs": [],
      "source": [
        "class Square:\n",
        "    color = 'PeachPuff'\n",
        "    def _repr_html_(self):\n",
        "        return '''\n",
        "        <div style=\"background: %s; width: 200px; height: 100px; border-radius: 10px;\">\n",
        "        </div>''' % self.color\n",
        "square = Square()\n",
        "\n",
        "display(square, display_id='some-square')"
      ]
    },
    {
      "cell_type": "code",
      "execution_count": null,
      "metadata": {
        "trusted": true
      },
      "outputs": [],
      "source": [
        "square.color = 'OliveDrab'\n",
        "update_display(square, display_id='some-square')"
      ]
    },
    {
      "cell_type": "markdown",
      "metadata": {},
      "source": [
        "### Clear output"
      ]
    },
    {
      "cell_type": "code",
      "execution_count": null,
      "metadata": {
        "trusted": true
      },
      "outputs": [],
      "source": [
        "print(\"hello\")\n",
        "await sleep(3)\n",
        "clear_output()             # will flicker when replacing \"hello\" with \"goodbye\"\n",
        "print(\"goodbye\")"
      ]
    },
    {
      "cell_type": "code",
      "execution_count": null,
      "metadata": {
        "trusted": true
      },
      "outputs": [],
      "source": [
        "print(\"hello\")\n",
        "await sleep(3)\n",
        "clear_output(wait=True)   # prevents flickering\n",
        "print(\"goodbye\")"
      ]
    },
    {
      "cell_type": "markdown",
      "metadata": {},
      "source": [
        "### Display classes"
      ]
    },
    {
      "cell_type": "code",
      "execution_count": null,
      "metadata": {
        "trusted": true
      },
      "outputs": [],
      "source": [
        "from IPython.display import HTML\n",
        "HTML('''\n",
        "        <div style=\"background: aliceblue; width: 200px; height: 100px; border-radius: 10px;\">\n",
        "        </div>''')"
      ]
    },
    {
      "cell_type": "code",
      "execution_count": null,
      "metadata": {
        "trusted": true
      },
      "outputs": [],
      "source": [
        "from IPython.display import Math\n",
        "Math(r'F(k) = \\int_{-\\infty}^{\\infty} f(x) e^{2\\pi i k} dx')"
      ]
    },
    {
      "cell_type": "code",
      "execution_count": null,
      "metadata": {
        "trusted": true
      },
      "outputs": [],
      "source": [
        "from IPython.display import Latex\n",
        "Latex(r\"\"\"\\begin{eqnarray}\n",
        "\\nabla \\times \\vec{\\mathbf{B}} -\\, \\frac1c\\, \\frac{\\partial\\vec{\\mathbf{E}}}{\\partial t} & = \\frac{4\\pi}{c}\\vec{\\mathbf{j}} \\\\\n",
        "\\nabla \\cdot \\vec{\\mathbf{E}} & = 4 \\pi \\rho \\\\\n",
        "\\nabla \\times \\vec{\\mathbf{E}}\\, +\\, \\frac1c\\, \\frac{\\partial\\vec{\\mathbf{B}}}{\\partial t} & = \\vec{\\mathbf{0}} \\\\\n",
        "\\nabla \\cdot \\vec{\\mathbf{B}} & = 0 \n",
        "\\end{eqnarray}\"\"\")"
      ]
    },
    {
      "cell_type": "code",
      "execution_count": null,
      "metadata": {
        "trusted": true
      },
      "outputs": [],
      "source": [
        "from IPython.display import ProgressBar\n",
        "\n",
        "for i in ProgressBar(10):\n",
        "    await sleep(0.1)"
      ]
    },
    {
      "cell_type": "code",
      "execution_count": null,
      "metadata": {
        "trusted": true
      },
      "outputs": [],
      "source": [
        "from IPython.display import JSON\n",
        "JSON(['foo', {'bar': ('baz', None, 1.0, 2)}], metadata={}, expanded=True, root='test')"
      ]
    },
    {
      "cell_type": "code",
      "execution_count": null,
      "metadata": {
        "trusted": true
      },
      "outputs": [],
      "source": [
        "from IPython.display import GeoJSON\n",
        "GeoJSON(\n",
        "  data={\n",
        "      \"type\": \"Feature\",\n",
        "      \"geometry\": {\n",
        "          \"type\": \"Point\",\n",
        "          \"coordinates\": [11.8, -45.04]\n",
        "      }\n",
        "  }, url_template=\"http://s3-eu-west-1.amazonaws.com/whereonmars.cartodb.net/{basemap_id}/{z}/{x}/{y}.png\",\n",
        "  layer_options={\n",
        "      \"basemap_id\": \"celestia_mars-shaded-16k_global\",\n",
        "      \"attribution\" : \"Celestia/praesepe\",\n",
        "      \"tms\": True,\n",
        "      \"minZoom\" : 0,\n",
        "      \"maxZoom\" : 5\n",
        "  }\n",
        ")"
      ]
    },
    {
      "cell_type": "markdown",
      "metadata": {},
      "source": [
        "## Network requests and JSON"
      ]
    },
    {
      "cell_type": "code",
      "execution_count": null,
      "metadata": {
        "trusted": true
      },
      "outputs": [],
      "source": [
        "import json\n",
        "from js import fetch"
      ]
    },
    {
      "cell_type": "code",
      "execution_count": null,
      "metadata": {
        "trusted": true
      },
      "outputs": [],
      "source": [
        "res = await fetch('https://httpbin.org/get')\n",
        "text = await res.text()\n",
        "obj = json.loads(text) \n",
        "JSON(obj)"
      ]
    },
    {
      "cell_type": "markdown",
      "metadata": {},
      "source": [
        "## Sympy"
      ]
    },
    {
      "cell_type": "code",
      "execution_count": null,
      "metadata": {
        "trusted": true
      },
      "outputs": [],
      "source": [
        "from sympy import Integral, sqrt, symbols, init_printing\n",
        "\n",
        "init_printing()\n",
        "\n",
        "x = symbols('x')\n",
        "\n",
        "Integral(sqrt(1 / x), x)"
      ]
    },
    {
      "cell_type": "markdown",
      "metadata": {},
      "source": [
        "## Magics"
      ]
    },
    {
      "cell_type": "code",
      "execution_count": null,
      "metadata": {
        "trusted": true
      },
      "outputs": [],
      "source": [
        "import os\n",
        "os.listdir()"
      ]
    },
    {
      "cell_type": "code",
      "execution_count": null,
      "metadata": {
        "trusted": true
      },
      "outputs": [],
      "source": [
        "%cd /home"
      ]
    },
    {
      "cell_type": "code",
      "execution_count": null,
      "metadata": {
        "trusted": true
      },
      "outputs": [],
      "source": [
        "%pwd"
      ]
    },
    {
      "cell_type": "code",
      "execution_count": null,
      "metadata": {
        "trusted": true
      },
      "outputs": [],
      "source": [
        "current_path = %pwd\n",
        "print(current_path)"
      ]
    },
    {
      "cell_type": "code",
      "execution_count": null,
      "metadata": {
        "trusted": true
      },
      "outputs": [],
      "source": [
        "%%writefile test.txt\n",
        "\n",
        "This will create a new file. \n",
        "With the text that you see here."
      ]
    },
    {
      "cell_type": "code",
      "execution_count": null,
      "metadata": {
        "trusted": true
      },
      "outputs": [],
      "source": [
        "%history"
      ]
    },
    {
      "cell_type": "code",
      "execution_count": null,
      "metadata": {
        "trusted": true
      },
      "outputs": [],
      "source": [
        "import time"
      ]
    },
    {
      "cell_type": "code",
      "execution_count": null,
      "metadata": {
        "trusted": true
      },
      "outputs": [],
      "source": [
        "%%timeit \n",
        "\n",
        "time.sleep(0.1)"
      ]
    }
  ],
  "metadata": {
    "kernelspec": {
      "display_name": "Python 3",
      "language": "python",
      "name": "python3"
    },
    "language_info": {
      "codemirror_mode": {
        "name": "python",
        "version": 3
      },
      "file_extension": ".py",
      "mimetype": "text/x-python",
      "name": "python",
      "nbconvert_exporter": "python",
      "pygments_lexer": "ipython3",
      "version": "3.10.6 (main, Nov 14 2022, 16:10:14) [GCC 11.3.0]"
    },
    "vscode": {
      "interpreter": {
        "hash": "916dbcbb3f70747c44a77c7bcd40155683ae19c65e1c03b4aa3499c5328201f1"
      }
    }
  },
  "nbformat": 4,
  "nbformat_minor": 4
}
