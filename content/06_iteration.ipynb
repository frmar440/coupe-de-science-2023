{
 "cells": [
  {
   "cell_type": "markdown",
   "id": "aa19abc0",
   "metadata": {},
   "source": [
    "# Itération\n",
    "\n",
    "L'ordinateur que vous avez trouvé à bord de l'avion contient un `OBJET_MYSTERIEUX`. Cet objet semble contenir de l'information intéressante. Vous tentez d'afficher son contenu:"
   ]
  },
  {
   "cell_type": "code",
   "execution_count": 6,
   "id": "35302807",
   "metadata": {},
   "outputs": [
    {
     "name": "stdout",
     "output_type": "stream",
     "text": [
      "<generator object gen_objet at 0x7ff606dc6b30>\n"
     ]
    }
   ],
   "source": [
    "from backend import gen_objet\n",
    "OBJET_MYSTERIEUX = gen_objet()\n",
    "\n",
    "print(OBJET_MYSTERIEUX)"
   ]
  },
  {
   "cell_type": "markdown",
   "id": "a9893233",
   "metadata": {},
   "source": [
    "En vain, l'objet ne semble pas vouloir afficher son contenu aussi facilement! Un autre rescapé vous suggère d'itérer sur cet objet et d'afficher son contenu lettre par lettre. Pour ce faire, vous devriez utiliser une boucle `for` (référez vous au cahier du participant pour savoir comment faire). Utilisez la cellule de code ci-dessous pour coder votre solution:"
   ]
  },
  {
   "cell_type": "code",
   "execution_count": null,
   "id": "3bcbb257",
   "metadata": {},
   "outputs": [],
   "source": []
  }
 ],
 "metadata": {
  "kernelspec": {
   "display_name": "Python 3 (ipykernel)",
   "language": "python",
   "name": "python3"
  },
  "language_info": {
   "codemirror_mode": {
    "name": "ipython",
    "version": 3
   },
   "file_extension": ".py",
   "mimetype": "text/x-python",
   "name": "python",
   "nbconvert_exporter": "python",
   "pygments_lexer": "ipython3",
   "version": "3.9.7"
  }
 },
 "nbformat": 4,
 "nbformat_minor": 5
}
