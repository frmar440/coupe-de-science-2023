{
 "cells": [
  {
   "cell_type": "markdown",
   "id": "cd5b1875",
   "metadata": {},
   "source": [
    "# Découpage\n",
    "\n",
    "Pendant une excursion au coeur de la jungle de l'île, votre équipe d'explorateurs découvre la porte d'un *bunker* souterrain. La porte est verrouillée et un clavier électronique permet d'entrer un code pour l'ouvrir. Sous ce clavier, il est inscrit:"
   ]
  },
  {
   "cell_type": "code",
   "execution_count": 1,
   "id": "e4a1b942",
   "metadata": {},
   "outputs": [],
   "source": [
    "chaine = \"2be6d5c4-23b3\"\n",
    "code = chaine[:5] + chaine[-2:]"
   ]
  },
  {
   "cell_type": "markdown",
   "id": "48a89f08",
   "metadata": {},
   "source": [
    "Avec cette information, vous tentez d'ouvrir le bunker (**exécutez** la cellule ci-dessous, puis entrer votre solution dans la case prévue à cet effet):"
   ]
  },
  {
   "cell_type": "code",
   "execution_count": null,
   "id": "0e7b4e46",
   "metadata": {},
   "outputs": [],
   "source": [
    "from backend import decode_decoupage\n",
    "\n",
    "decode_decoupage()"
   ]
  }
 ],
 "metadata": {
  "kernelspec": {
   "display_name": "Python 3 (ipykernel)",
   "language": "python",
   "name": "python3"
  },
  "language_info": {
   "codemirror_mode": {
    "name": "ipython",
    "version": 3
   },
   "file_extension": ".py",
   "mimetype": "text/x-python",
   "name": "python",
   "nbconvert_exporter": "python",
   "pygments_lexer": "ipython3",
   "version": "3.9.7"
  }
 },
 "nbformat": 4,
 "nbformat_minor": 5
}
