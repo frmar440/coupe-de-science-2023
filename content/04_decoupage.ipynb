{
 "cells": [
  {
   "attachments": {},
   "cell_type": "markdown",
   "id": "cd5b1875",
   "metadata": {},
   "source": [
    "# Découpage\n",
    "\n",
    "Votre équipe d'explorateurs reçoit un message codé:"
   ]
  },
  {
   "cell_type": "code",
   "execution_count": 1,
   "id": "e4a1b942",
   "metadata": {},
   "outputs": [],
   "source": [
    "chaine = \"2be6d5c4-23b3\"\n",
    "code = chaine[:5] + chaine[-2:]"
   ]
  },
  {
   "attachments": {},
   "cell_type": "markdown",
   "id": "48a89f08",
   "metadata": {},
   "source": [
    "Avec cette information, vous tentez de déchiffrer le code de ce message (**exécutez** la cellule ci-dessous, puis entrer votre solution dans la case prévue à cet effet):"
   ]
  },
  {
   "cell_type": "code",
   "execution_count": null,
   "id": "0e7b4e46",
   "metadata": {},
   "outputs": [],
   "source": [
    "from backend import decode_decoupage\n",
    "\n",
    "decode_decoupage()"
   ]
  },
  {
   "cell_type": "code",
   "execution_count": 1,
   "id": "9f0a82f7",
   "metadata": {},
   "outputs": [
    {
     "data": {
      "text/plain": [
       "\"NAGEZ DANS LE LABYRINTHE DE CORAIL, MAIS MÉFIEZ-VOUS DES CRÉATURES DANGEREUSES QUI S'Y CACHENT\""
      ]
     },
     "execution_count": 1,
     "metadata": {},
     "output_type": "execute_result"
    }
   ],
   "source": []
  }
 ],
 "metadata": {
  "kernelspec": {
   "display_name": "Python 3",
   "language": "python",
   "name": "python3"
  },
  "language_info": {
   "codemirror_mode": {
    "name": "ipython",
    "version": 3
   },
   "file_extension": ".py",
   "mimetype": "text/x-python",
   "name": "python",
   "nbconvert_exporter": "python",
   "pygments_lexer": "ipython3",
   "version": "3.10.6"
  },
  "vscode": {
   "interpreter": {
    "hash": "916dbcbb3f70747c44a77c7bcd40155683ae19c65e1c03b4aa3499c5328201f1"
   }
  }
 },
 "nbformat": 4,
 "nbformat_minor": 5
}
